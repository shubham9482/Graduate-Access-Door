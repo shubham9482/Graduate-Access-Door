{
 "cells": [
  {
   "cell_type": "code",
   "execution_count": 6,
   "metadata": {},
   "outputs": [],
   "source": [
    "import pandas as pd"
   ]
  },
  {
   "cell_type": "code",
   "execution_count": 7,
   "metadata": {},
   "outputs": [
    {
     "data": {
      "text/html": [
       "<div>\n",
       "<style scoped>\n",
       "    .dataframe tbody tr th:only-of-type {\n",
       "        vertical-align: middle;\n",
       "    }\n",
       "\n",
       "    .dataframe tbody tr th {\n",
       "        vertical-align: top;\n",
       "    }\n",
       "\n",
       "    .dataframe thead th {\n",
       "        text-align: right;\n",
       "    }\n",
       "</style>\n",
       "<table border=\"1\" class=\"dataframe\">\n",
       "  <thead>\n",
       "    <tr style=\"text-align: right;\">\n",
       "      <th></th>\n",
       "      <th>College Code</th>\n",
       "      <th>Job Code</th>\n",
       "      <th>Door Access Actual DateTime</th>\n",
       "      <th>Door Name</th>\n",
       "      <th>Result</th>\n",
       "    </tr>\n",
       "  </thead>\n",
       "  <tbody>\n",
       "    <tr>\n",
       "      <th>0</th>\n",
       "      <td>{null}</td>\n",
       "      <td>{null}</td>\n",
       "      <td>1/16/2018 16:20</td>\n",
       "      <td>BL_LL2100</td>\n",
       "      <td>perm sch invalid</td>\n",
       "    </tr>\n",
       "    <tr>\n",
       "      <th>1</th>\n",
       "      <td>{null}</td>\n",
       "      <td>1771</td>\n",
       "      <td>11/28/2018 14:27</td>\n",
       "      <td>BL_LL2100</td>\n",
       "      <td>Invalid Issue Nbr</td>\n",
       "    </tr>\n",
       "    <tr>\n",
       "      <th>2</th>\n",
       "      <td>{null}</td>\n",
       "      <td>1771</td>\n",
       "      <td>11/28/2018 14:27</td>\n",
       "      <td>BL_LL2100</td>\n",
       "      <td>Invalid Issue Nbr</td>\n",
       "    </tr>\n",
       "    <tr>\n",
       "      <th>3</th>\n",
       "      <td>{null}</td>\n",
       "      <td>1771</td>\n",
       "      <td>11/28/2018 14:28</td>\n",
       "      <td>BL_LL2100</td>\n",
       "      <td>Invalid Issue Nbr</td>\n",
       "    </tr>\n",
       "    <tr>\n",
       "      <th>4</th>\n",
       "      <td>{null}</td>\n",
       "      <td>1771</td>\n",
       "      <td>11/28/2018 14:28</td>\n",
       "      <td>BL_LL2100</td>\n",
       "      <td>Invalid Issue Nbr</td>\n",
       "    </tr>\n",
       "    <tr>\n",
       "      <th>...</th>\n",
       "      <td>...</td>\n",
       "      <td>...</td>\n",
       "      <td>...</td>\n",
       "      <td>...</td>\n",
       "      <td>...</td>\n",
       "    </tr>\n",
       "    <tr>\n",
       "      <th>65599</th>\n",
       "      <td>AS</td>\n",
       "      <td>1777</td>\n",
       "      <td>11/29/2017 12:29</td>\n",
       "      <td>BL_LL2200</td>\n",
       "      <td>Accepted Online</td>\n",
       "    </tr>\n",
       "    <tr>\n",
       "      <th>65600</th>\n",
       "      <td>AS</td>\n",
       "      <td>1777</td>\n",
       "      <td>11/29/2017 12:52</td>\n",
       "      <td>BL_LL2200</td>\n",
       "      <td>Accepted Online</td>\n",
       "    </tr>\n",
       "    <tr>\n",
       "      <th>65601</th>\n",
       "      <td>AS</td>\n",
       "      <td>1777</td>\n",
       "      <td>1/25/2018 13:17</td>\n",
       "      <td>BL_LL2200</td>\n",
       "      <td>Accepted Online</td>\n",
       "    </tr>\n",
       "    <tr>\n",
       "      <th>65602</th>\n",
       "      <td>AS</td>\n",
       "      <td>1777</td>\n",
       "      <td>3/28/2019 11:17</td>\n",
       "      <td>BL_LL2100</td>\n",
       "      <td>Accepted Online</td>\n",
       "    </tr>\n",
       "    <tr>\n",
       "      <th>65603</th>\n",
       "      <td>EN</td>\n",
       "      <td>1777</td>\n",
       "      <td>5/12/2018 15:10</td>\n",
       "      <td>BL_LL2100</td>\n",
       "      <td>Accepted Online</td>\n",
       "    </tr>\n",
       "  </tbody>\n",
       "</table>\n",
       "<p>65604 rows × 5 columns</p>\n",
       "</div>"
      ],
      "text/plain": [
       "      College Code Job Code Door Access Actual DateTime  Door Name  \\\n",
       "0           {null}   {null}             1/16/2018 16:20  BL_LL2100   \n",
       "1           {null}     1771            11/28/2018 14:27  BL_LL2100   \n",
       "2           {null}     1771            11/28/2018 14:27  BL_LL2100   \n",
       "3           {null}     1771            11/28/2018 14:28  BL_LL2100   \n",
       "4           {null}     1771            11/28/2018 14:28  BL_LL2100   \n",
       "...            ...      ...                         ...        ...   \n",
       "65599           AS     1777            11/29/2017 12:29  BL_LL2200   \n",
       "65600           AS     1777            11/29/2017 12:52  BL_LL2200   \n",
       "65601           AS     1777             1/25/2018 13:17  BL_LL2200   \n",
       "65602           AS     1777             3/28/2019 11:17  BL_LL2100   \n",
       "65603           EN     1777             5/12/2018 15:10  BL_LL2100   \n",
       "\n",
       "                  Result  \n",
       "0       perm sch invalid  \n",
       "1      Invalid Issue Nbr  \n",
       "2      Invalid Issue Nbr  \n",
       "3      Invalid Issue Nbr  \n",
       "4      Invalid Issue Nbr  \n",
       "...                  ...  \n",
       "65599    Accepted Online  \n",
       "65600    Accepted Online  \n",
       "65601    Accepted Online  \n",
       "65602    Accepted Online  \n",
       "65603    Accepted Online  \n",
       "\n",
       "[65604 rows x 5 columns]"
      ]
     },
     "execution_count": 7,
     "metadata": {},
     "output_type": "execute_result"
    }
   ],
   "source": [
    "data = pd.read_csv(\"Graduate20182019-11-01_10_38_10.csv\")\n",
    "data"
   ]
  },
  {
   "cell_type": "code",
   "execution_count": 8,
   "metadata": {},
   "outputs": [],
   "source": [
    "data['Door Access Actual DateTime'] = pd.to_datetime(data['Door Access Actual DateTime'])"
   ]
  },
  {
   "cell_type": "code",
   "execution_count": 9,
   "metadata": {},
   "outputs": [
    {
     "data": {
      "text/html": [
       "<div>\n",
       "<style scoped>\n",
       "    .dataframe tbody tr th:only-of-type {\n",
       "        vertical-align: middle;\n",
       "    }\n",
       "\n",
       "    .dataframe tbody tr th {\n",
       "        vertical-align: top;\n",
       "    }\n",
       "\n",
       "    .dataframe thead th {\n",
       "        text-align: right;\n",
       "    }\n",
       "</style>\n",
       "<table border=\"1\" class=\"dataframe\">\n",
       "  <thead>\n",
       "    <tr style=\"text-align: right;\">\n",
       "      <th></th>\n",
       "      <th>College Code</th>\n",
       "      <th>Job Code</th>\n",
       "      <th>Door Access Actual DateTime</th>\n",
       "      <th>Door Name</th>\n",
       "      <th>Result</th>\n",
       "      <th>date_month</th>\n",
       "      <th>date_date</th>\n",
       "      <th>date_year</th>\n",
       "      <th>date_hour</th>\n",
       "      <th>day_of_week</th>\n",
       "    </tr>\n",
       "  </thead>\n",
       "  <tbody>\n",
       "    <tr>\n",
       "      <th>0</th>\n",
       "      <td>{null}</td>\n",
       "      <td>{null}</td>\n",
       "      <td>2018-01-16 16:20:00</td>\n",
       "      <td>BL_LL2100</td>\n",
       "      <td>perm sch invalid</td>\n",
       "      <td>1</td>\n",
       "      <td>16</td>\n",
       "      <td>2018</td>\n",
       "      <td>16</td>\n",
       "      <td>1</td>\n",
       "    </tr>\n",
       "    <tr>\n",
       "      <th>1</th>\n",
       "      <td>{null}</td>\n",
       "      <td>1771</td>\n",
       "      <td>2018-11-28 14:27:00</td>\n",
       "      <td>BL_LL2100</td>\n",
       "      <td>Invalid Issue Nbr</td>\n",
       "      <td>11</td>\n",
       "      <td>28</td>\n",
       "      <td>2018</td>\n",
       "      <td>14</td>\n",
       "      <td>2</td>\n",
       "    </tr>\n",
       "    <tr>\n",
       "      <th>2</th>\n",
       "      <td>{null}</td>\n",
       "      <td>1771</td>\n",
       "      <td>2018-11-28 14:27:00</td>\n",
       "      <td>BL_LL2100</td>\n",
       "      <td>Invalid Issue Nbr</td>\n",
       "      <td>11</td>\n",
       "      <td>28</td>\n",
       "      <td>2018</td>\n",
       "      <td>14</td>\n",
       "      <td>2</td>\n",
       "    </tr>\n",
       "    <tr>\n",
       "      <th>3</th>\n",
       "      <td>{null}</td>\n",
       "      <td>1771</td>\n",
       "      <td>2018-11-28 14:28:00</td>\n",
       "      <td>BL_LL2100</td>\n",
       "      <td>Invalid Issue Nbr</td>\n",
       "      <td>11</td>\n",
       "      <td>28</td>\n",
       "      <td>2018</td>\n",
       "      <td>14</td>\n",
       "      <td>2</td>\n",
       "    </tr>\n",
       "    <tr>\n",
       "      <th>4</th>\n",
       "      <td>{null}</td>\n",
       "      <td>1771</td>\n",
       "      <td>2018-11-28 14:28:00</td>\n",
       "      <td>BL_LL2100</td>\n",
       "      <td>Invalid Issue Nbr</td>\n",
       "      <td>11</td>\n",
       "      <td>28</td>\n",
       "      <td>2018</td>\n",
       "      <td>14</td>\n",
       "      <td>2</td>\n",
       "    </tr>\n",
       "    <tr>\n",
       "      <th>...</th>\n",
       "      <td>...</td>\n",
       "      <td>...</td>\n",
       "      <td>...</td>\n",
       "      <td>...</td>\n",
       "      <td>...</td>\n",
       "      <td>...</td>\n",
       "      <td>...</td>\n",
       "      <td>...</td>\n",
       "      <td>...</td>\n",
       "      <td>...</td>\n",
       "    </tr>\n",
       "    <tr>\n",
       "      <th>65599</th>\n",
       "      <td>AS</td>\n",
       "      <td>1777</td>\n",
       "      <td>2017-11-29 12:29:00</td>\n",
       "      <td>BL_LL2200</td>\n",
       "      <td>Accepted Online</td>\n",
       "      <td>11</td>\n",
       "      <td>29</td>\n",
       "      <td>2017</td>\n",
       "      <td>12</td>\n",
       "      <td>2</td>\n",
       "    </tr>\n",
       "    <tr>\n",
       "      <th>65600</th>\n",
       "      <td>AS</td>\n",
       "      <td>1777</td>\n",
       "      <td>2017-11-29 12:52:00</td>\n",
       "      <td>BL_LL2200</td>\n",
       "      <td>Accepted Online</td>\n",
       "      <td>11</td>\n",
       "      <td>29</td>\n",
       "      <td>2017</td>\n",
       "      <td>12</td>\n",
       "      <td>2</td>\n",
       "    </tr>\n",
       "    <tr>\n",
       "      <th>65601</th>\n",
       "      <td>AS</td>\n",
       "      <td>1777</td>\n",
       "      <td>2018-01-25 13:17:00</td>\n",
       "      <td>BL_LL2200</td>\n",
       "      <td>Accepted Online</td>\n",
       "      <td>1</td>\n",
       "      <td>25</td>\n",
       "      <td>2018</td>\n",
       "      <td>13</td>\n",
       "      <td>3</td>\n",
       "    </tr>\n",
       "    <tr>\n",
       "      <th>65602</th>\n",
       "      <td>AS</td>\n",
       "      <td>1777</td>\n",
       "      <td>2019-03-28 11:17:00</td>\n",
       "      <td>BL_LL2100</td>\n",
       "      <td>Accepted Online</td>\n",
       "      <td>3</td>\n",
       "      <td>28</td>\n",
       "      <td>2019</td>\n",
       "      <td>11</td>\n",
       "      <td>3</td>\n",
       "    </tr>\n",
       "    <tr>\n",
       "      <th>65603</th>\n",
       "      <td>EN</td>\n",
       "      <td>1777</td>\n",
       "      <td>2018-05-12 15:10:00</td>\n",
       "      <td>BL_LL2100</td>\n",
       "      <td>Accepted Online</td>\n",
       "      <td>5</td>\n",
       "      <td>12</td>\n",
       "      <td>2018</td>\n",
       "      <td>15</td>\n",
       "      <td>5</td>\n",
       "    </tr>\n",
       "  </tbody>\n",
       "</table>\n",
       "<p>65604 rows × 10 columns</p>\n",
       "</div>"
      ],
      "text/plain": [
       "      College Code Job Code Door Access Actual DateTime  Door Name  \\\n",
       "0           {null}   {null}         2018-01-16 16:20:00  BL_LL2100   \n",
       "1           {null}     1771         2018-11-28 14:27:00  BL_LL2100   \n",
       "2           {null}     1771         2018-11-28 14:27:00  BL_LL2100   \n",
       "3           {null}     1771         2018-11-28 14:28:00  BL_LL2100   \n",
       "4           {null}     1771         2018-11-28 14:28:00  BL_LL2100   \n",
       "...            ...      ...                         ...        ...   \n",
       "65599           AS     1777         2017-11-29 12:29:00  BL_LL2200   \n",
       "65600           AS     1777         2017-11-29 12:52:00  BL_LL2200   \n",
       "65601           AS     1777         2018-01-25 13:17:00  BL_LL2200   \n",
       "65602           AS     1777         2019-03-28 11:17:00  BL_LL2100   \n",
       "65603           EN     1777         2018-05-12 15:10:00  BL_LL2100   \n",
       "\n",
       "                  Result  date_month  date_date  date_year  date_hour  \\\n",
       "0       perm sch invalid           1         16       2018         16   \n",
       "1      Invalid Issue Nbr          11         28       2018         14   \n",
       "2      Invalid Issue Nbr          11         28       2018         14   \n",
       "3      Invalid Issue Nbr          11         28       2018         14   \n",
       "4      Invalid Issue Nbr          11         28       2018         14   \n",
       "...                  ...         ...        ...        ...        ...   \n",
       "65599    Accepted Online          11         29       2017         12   \n",
       "65600    Accepted Online          11         29       2017         12   \n",
       "65601    Accepted Online           1         25       2018         13   \n",
       "65602    Accepted Online           3         28       2019         11   \n",
       "65603    Accepted Online           5         12       2018         15   \n",
       "\n",
       "       day_of_week  \n",
       "0                1  \n",
       "1                2  \n",
       "2                2  \n",
       "3                2  \n",
       "4                2  \n",
       "...            ...  \n",
       "65599            2  \n",
       "65600            2  \n",
       "65601            3  \n",
       "65602            3  \n",
       "65603            5  \n",
       "\n",
       "[65604 rows x 10 columns]"
      ]
     },
     "execution_count": 9,
     "metadata": {},
     "output_type": "execute_result"
    }
   ],
   "source": [
    "data['date_month'] = data['Door Access Actual DateTime'].dt.month\n",
    "data['date_date'] = data['Door Access Actual DateTime'].dt.day\n",
    "data['date_year'] = data['Door Access Actual DateTime'].dt.year\n",
    "data['date_hour'] = data['Door Access Actual DateTime'].dt.hour\n",
    "data['day_of_week'] = data['Door Access Actual DateTime'].dt.dayofweek\n",
    "data"
   ]
  },
  {
   "cell_type": "code",
   "execution_count": 10,
   "metadata": {},
   "outputs": [],
   "source": [
    "import matplotlib.pyplot as plt"
   ]
  },
  {
   "cell_type": "code",
   "execution_count": 11,
   "metadata": {},
   "outputs": [
    {
     "data": {
      "text/plain": [
       "<Figure size 432x288 with 0 Axes>"
      ]
     },
     "execution_count": 11,
     "metadata": {},
     "output_type": "execute_result"
    },
    {
     "data": {
      "text/plain": [
       "<Figure size 432x288 with 0 Axes>"
      ]
     },
     "metadata": {},
     "output_type": "display_data"
    }
   ],
   "source": [
    "plt.figure()"
   ]
  },
  {
   "cell_type": "code",
   "execution_count": 12,
   "metadata": {},
   "outputs": [
    {
     "data": {
      "text/plain": [
       "<matplotlib.axes._subplots.AxesSubplot at 0x18c520e8e08>"
      ]
     },
     "execution_count": 12,
     "metadata": {},
     "output_type": "execute_result"
    },
    {
     "data": {
      "image/png": "[encoded data removed]",
      "text/plain": [
       "<Figure size 432x288 with 1 Axes>"
      ]
     },
     "metadata": {
      "needs_background": "light"
     },
     "output_type": "display_data"
    }
   ],
   "source": [
    "data['date_month'].plot.hist()"
   ]
  },
  {
   "cell_type": "code",
   "execution_count": 13,
   "metadata": {},
   "outputs": [
    {
     "data": {
      "text/plain": [
       "<matplotlib.axes._subplots.AxesSubplot at 0x18c531b7ac8>"
      ]
     },
     "execution_count": 13,
     "metadata": {},
     "output_type": "execute_result"
    },
    {
     "data": {
      "image/png": "[encoded data removed]",
      "text/plain": [
       "<Figure size 432x288 with 1 Axes>"
      ]
     },
     "metadata": {
      "needs_background": "light"
     },
     "output_type": "display_data"
    }
   ],
   "source": [
    "data['date_hour'].plot.hist()"
   ]
  },
  {
   "cell_type": "code",
   "execution_count": 14,
   "metadata": {},
   "outputs": [
    {
     "data": {
      "text/plain": [
       "Index(['College Code', 'Job Code', 'Door Access Actual DateTime', 'Door Name',\n",
       "       'Result', 'date_month', 'date_date', 'date_year', 'date_hour',\n",
       "       'day_of_week'],\n",
       "      dtype='object')"
      ]
     },
     "execution_count": 14,
     "metadata": {},
     "output_type": "execute_result"
    }
   ],
   "source": [
    "data.columns"
   ]
  },
  {
   "cell_type": "code",
   "execution_count": 15,
   "metadata": {},
   "outputs": [
    {
     "data": {
      "text/plain": [
       "array([2018, 2017, 2019], dtype=int64)"
      ]
     },
     "execution_count": 15,
     "metadata": {},
     "output_type": "execute_result"
    }
   ],
   "source": [
    "data['date_year'].unique()"
   ]
  },
  {
   "cell_type": "code",
   "execution_count": 16,
   "metadata": {},
   "outputs": [
    {
     "data": {
      "text/plain": [
       "<matplotlib.axes._subplots.AxesSubplot at 0x18c53244748>"
      ]
     },
     "execution_count": 16,
     "metadata": {},
     "output_type": "execute_result"
    },
    {
     "data": {
      "image/png": "[encoded data removed]",
      "text/plain": [
       "<Figure size 432x288 with 1 Axes>"
      ]
     },
     "metadata": {
      "needs_background": "light"
     },
     "output_type": "display_data"
    }
   ],
   "source": [
    "data['day_of_week'].plot.hist()"
   ]
  },
  {
   "cell_type": "code",
   "execution_count": 52,
   "metadata": {},
   "outputs": [
    {
     "ename": "SyntaxError",
     "evalue": "invalid character in identifier (<ipython-input-52-6b57f7cfc2f2>, line 2)",
     "output_type": "error",
     "traceback": [
      "\u001b[1;36m  File \u001b[1;32m\"<ipython-input-52-6b57f7cfc2f2>\"\u001b[1;36m, line \u001b[1;32m2\u001b[0m\n\u001b[1;33m    job_codes.columns = job_codes.iloc[0]¶\u001b[0m\n\u001b[1;37m                                         ^\u001b[0m\n\u001b[1;31mSyntaxError\u001b[0m\u001b[1;31m:\u001b[0m invalid character in identifier\n"
     ]
    }
   ],
   "source": [
    "job_codes = pd.read_excel(\"Job Codes.xls\")\n",
    "job_codes.columns = job_codes.iloc[0]\n",
    "job_codes = job_codes[1:]\n",
    "job_codes.iloc[:,0] = job_codes.iloc[:,0].str.lstrip('0+')\n",
    "job_codes=job_codes.append(pd.DataFrame([[None, \"{null}\"]], columns=['Descr', 'Job Code']), sort=False)"
   ]
  },
  {
   "cell_type": "code",
   "execution_count": 47,
   "metadata": {},
   "outputs": [],
   "source": [
    "\n",
    "job_codes_dict = pd.Series(job_codes.Descr.values,index=job_codes['Job Code']).to_dict()"
   ]
  },
  {
   "cell_type": "code",
   "execution_count": 49,
   "metadata": {},
   "outputs": [
    {
     "ename": "KeyError",
     "evalue": "'0609H'",
     "output_type": "error",
     "traceback": [
      "\u001b[1;31m---------------------------------------------------------------------------\u001b[0m",
      "\u001b[1;31mKeyError\u001b[0m                                  Traceback (most recent call last)",
      "\u001b[1;32m<ipython-input-49-03f0ff96908e>\u001b[0m in \u001b[0;36m<module>\u001b[1;34m\u001b[0m\n\u001b[1;32m----> 1\u001b[1;33m \u001b[0mJob_Descr_Column\u001b[0m \u001b[1;33m=\u001b[0m \u001b[1;33m[\u001b[0m\u001b[0mjob_codes_dict\u001b[0m\u001b[1;33m[\u001b[0m\u001b[0mcode\u001b[0m\u001b[1;33m]\u001b[0m \u001b[1;32mfor\u001b[0m \u001b[0mcode\u001b[0m \u001b[1;32min\u001b[0m \u001b[0mdata\u001b[0m\u001b[1;33m[\u001b[0m\u001b[1;34m'Job Code'\u001b[0m\u001b[1;33m]\u001b[0m\u001b[1;33m]\u001b[0m\u001b[1;33m\u001b[0m\u001b[1;33m\u001b[0m\u001b[0m\n\u001b[0m\u001b[0;32m      2\u001b[0m \u001b[1;31m# job_codes_dict[185]\u001b[0m\u001b[1;33m\u001b[0m\u001b[1;33m\u001b[0m\u001b[1;33m\u001b[0m\u001b[0m\n",
      "\u001b[1;32m<ipython-input-49-03f0ff96908e>\u001b[0m in \u001b[0;36m<listcomp>\u001b[1;34m(.0)\u001b[0m\n\u001b[1;32m----> 1\u001b[1;33m \u001b[0mJob_Descr_Column\u001b[0m \u001b[1;33m=\u001b[0m \u001b[1;33m[\u001b[0m\u001b[0mjob_codes_dict\u001b[0m\u001b[1;33m[\u001b[0m\u001b[0mcode\u001b[0m\u001b[1;33m]\u001b[0m \u001b[1;32mfor\u001b[0m \u001b[0mcode\u001b[0m \u001b[1;32min\u001b[0m \u001b[0mdata\u001b[0m\u001b[1;33m[\u001b[0m\u001b[1;34m'Job Code'\u001b[0m\u001b[1;33m]\u001b[0m\u001b[1;33m]\u001b[0m\u001b[1;33m\u001b[0m\u001b[1;33m\u001b[0m\u001b[0m\n\u001b[0m\u001b[0;32m      2\u001b[0m \u001b[1;31m# job_codes_dict[185]\u001b[0m\u001b[1;33m\u001b[0m\u001b[1;33m\u001b[0m\u001b[1;33m\u001b[0m\u001b[0m\n",
      "\u001b[1;31mKeyError\u001b[0m: '0609H'"
     ]
    }
   ],
   "source": [
    "Job_Descr_Column = [job_codes_dict[code] for code in data['Job Code']]\n"
   ]
  },
  {
   "cell_type": "code",
   "execution_count": 36,
   "metadata": {
    "scrolled": true
   },
   "outputs": [
    {
     "ename": "NameError",
     "evalue": "name 'Job_Descr_Column' is not defined",
     "output_type": "error",
     "traceback": [
      "\u001b[1;31m---------------------------------------------------------------------------\u001b[0m",
      "\u001b[1;31mNameError\u001b[0m                                 Traceback (most recent call last)",
      "\u001b[1;32m<ipython-input-36-6e6f49362480>\u001b[0m in \u001b[0;36m<module>\u001b[1;34m\u001b[0m\n\u001b[1;32m----> 1\u001b[1;33m \u001b[0mdata\u001b[0m\u001b[1;33m[\u001b[0m\u001b[1;34m'Job Description Column'\u001b[0m\u001b[1;33m]\u001b[0m \u001b[1;33m=\u001b[0m \u001b[0mJob_Descr_Column\u001b[0m\u001b[1;33m\u001b[0m\u001b[1;33m\u001b[0m\u001b[0m\n\u001b[0m\u001b[0;32m      2\u001b[0m \u001b[0mdata\u001b[0m\u001b[1;33m\u001b[0m\u001b[1;33m\u001b[0m\u001b[0m\n",
      "\u001b[1;31mNameError\u001b[0m: name 'Job_Descr_Column' is not defined"
     ]
    }
   ],
   "source": [
    "data['Job Description Column'] = Job_Descr_Column\n",
    "data"
   ]
  },
  {
   "cell_type": "code",
   "execution_count": null,
   "metadata": {},
   "outputs": [],
   "source": []
  },
  {
   "cell_type": "code",
   "execution_count": null,
   "metadata": {},
   "outputs": [],
   "source": [
    "import re\n",
    "\n",
    "student_data = pd.DataFrame(columns=data.columns)\n",
    "student_data_list = []\n",
    "for i in range(0, len(data)):\n",
    "    job_desc = data.iloc[i,:]['Job Description Column']\n",
    "    if job_desc is not None and re.search(\"grad\", job_desc.lower()):\n",
    "        student_data_list.append(list(data.iloc[i,:]))\n",
    "    elif job_desc is not None and re.search(\"student\", job_desc.lower()):\n",
    "        student_data_list.append(list(data.iloc[i,:]))\n",
    "student_data = pd.DataFrame(student_data_list, columns=data.columns)"
   ]
  },
  {
   "cell_type": "code",
   "execution_count": null,
   "metadata": {},
   "outputs": [],
   "source": [
    "student_data['date_month'].plot.hist()"
   ]
  },
  {
   "cell_type": "code",
   "execution_count": null,
   "metadata": {},
   "outputs": [],
   "source": [
    "data['date_hour'].plot.hist()"
   ]
  },
  {
   "cell_type": "code",
   "execution_count": null,
   "metadata": {},
   "outputs": [],
   "source": []
  }
 ],
 "metadata": {
  "kernelspec": {
   "display_name": "Python 3",
   "language": "python",
   "name": "python3"
  },
  "language_info": {
   "codemirror_mode": {
    "name": "ipython",
    "version": 3
   },
   "file_extension": ".py",
   "mimetype": "text/x-python",
   "name": "python",
   "nbconvert_exporter": "python",
   "pygments_lexer": "ipython3",
   "version": "3.7.7"
  }
 },
 "nbformat": 4,
 "nbformat_minor": 4
}
